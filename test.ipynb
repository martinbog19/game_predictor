{
 "cells": [
  {
   "cell_type": "code",
   "execution_count": 153,
   "metadata": {},
   "outputs": [],
   "source": [
    "import pandas as pd\n",
    "import numpy as np\n",
    "import matplotlib.pyplot as plt\n",
    "from sklearn.model_selection import train_test_split\n",
    "\n",
    "from keras.models import Sequential\n",
    "from keras.layers import Dense\n",
    "from sklearn.preprocessing import StandardScaler\n",
    "from sklearn.metrics import accuracy_score\n"
   ]
  },
  {
   "cell_type": "code",
   "execution_count": 154,
   "metadata": {},
   "outputs": [],
   "source": [
    "data = pd.read_csv('training_data/training_data.csv')\n",
    "data = data[(data['G_home'] >= 25) & (data['G_away'] >= 25)]\n",
    "features = [x for x in list(data) if 'W/L%' in x or 'ORtg' in x or 'DRtg' in x or 'Streak' in x]\n",
    "X = np.array(data[features])\n",
    "y = np.array(data[['W_home', 'PTS_diff']])\n",
    "\n",
    "X_train, X_test, y_train, y_test = train_test_split(X, y, test_size = 0.01)"
   ]
  },
  {
   "cell_type": "code",
   "execution_count": 155,
   "metadata": {},
   "outputs": [],
   "source": [
    "scaler = StandardScaler()\n",
    "X_train = scaler.fit_transform(X_train)\n",
    "X_test = scaler.transform(X_test)"
   ]
  },
  {
   "cell_type": "code",
   "execution_count": 156,
   "metadata": {},
   "outputs": [],
   "source": [
    "y_test, y_diff_test = y_test[:,0], y_test[:,1]\n",
    "y_train, y_diff_train = y_train[:,0], y_train[:,1]"
   ]
  },
  {
   "cell_type": "code",
   "execution_count": 157,
   "metadata": {},
   "outputs": [],
   "source": [
    "model = Sequential()\n",
    "model.add(Dense(64, activation = 'relu', input_shape = (X.shape[1],)))\n",
    "model.add(Dense(32, activation = 'relu'))\n",
    "model.add(Dense(16, activation = 'relu'))\n",
    "model.add(Dense(1,  activation = 'sigmoid'))"
   ]
  },
  {
   "cell_type": "code",
   "execution_count": 158,
   "metadata": {},
   "outputs": [],
   "source": [
    "# Compile the model\n",
    "model.compile(loss      = 'binary_crossentropy',\n",
    "              optimizer = 'adam',\n",
    "              metrics   = ['accuracy']\n",
    "              )"
   ]
  },
  {
   "cell_type": "code",
   "execution_count": 159,
   "metadata": {},
   "outputs": [
    {
     "name": "stdout",
     "output_type": "stream",
     "text": [
      "Epoch 1/10\n",
      "263/263 [==============================] - 0s 1ms/step - loss: 0.6309 - accuracy: 0.6439 - val_loss: 0.6082 - val_accuracy: 0.6751\n",
      "Epoch 2/10\n",
      "263/263 [==============================] - 0s 706us/step - loss: 0.6130 - accuracy: 0.6602 - val_loss: 0.6068 - val_accuracy: 0.6732\n",
      "Epoch 3/10\n",
      "263/263 [==============================] - 0s 694us/step - loss: 0.6077 - accuracy: 0.6667 - val_loss: 0.6080 - val_accuracy: 0.6755\n",
      "Epoch 4/10\n",
      "263/263 [==============================] - 0s 697us/step - loss: 0.6049 - accuracy: 0.6714 - val_loss: 0.6129 - val_accuracy: 0.6613\n",
      "Epoch 5/10\n",
      "263/263 [==============================] - 0s 699us/step - loss: 0.6015 - accuracy: 0.6726 - val_loss: 0.6165 - val_accuracy: 0.6637\n",
      "Epoch 6/10\n",
      "263/263 [==============================] - 0s 689us/step - loss: 0.5978 - accuracy: 0.6761 - val_loss: 0.6116 - val_accuracy: 0.6684\n",
      "Epoch 7/10\n",
      "263/263 [==============================] - 0s 680us/step - loss: 0.5956 - accuracy: 0.6771 - val_loss: 0.6121 - val_accuracy: 0.6694\n",
      "Epoch 8/10\n",
      "263/263 [==============================] - 0s 700us/step - loss: 0.5931 - accuracy: 0.6755 - val_loss: 0.6160 - val_accuracy: 0.6670\n",
      "Epoch 9/10\n",
      "263/263 [==============================] - 0s 689us/step - loss: 0.5885 - accuracy: 0.6800 - val_loss: 0.6164 - val_accuracy: 0.6627\n",
      "Epoch 10/10\n",
      "263/263 [==============================] - 0s 701us/step - loss: 0.5865 - accuracy: 0.6851 - val_loss: 0.6143 - val_accuracy: 0.6689\n"
     ]
    },
    {
     "data": {
      "text/plain": [
       "<keras.callbacks.History at 0x7faec587f2b0>"
      ]
     },
     "execution_count": 159,
     "metadata": {},
     "output_type": "execute_result"
    }
   ],
   "source": [
    "model.fit(X_train, y_train, validation_split = 0.2, epochs = 10, batch_size = 32)"
   ]
  },
  {
   "cell_type": "code",
   "execution_count": 164,
   "metadata": {},
   "outputs": [
    {
     "name": "stdout",
     "output_type": "stream",
     "text": [
      "329/329 [==============================] - 0s 346us/step\n"
     ]
    }
   ],
   "source": [
    "y_pred = model.predict(X_train)"
   ]
  },
  {
   "cell_type": "code",
   "execution_count": 165,
   "metadata": {},
   "outputs": [
    {
     "data": {
      "text/plain": [
       "0.6887133612485725"
      ]
     },
     "execution_count": 165,
     "metadata": {},
     "output_type": "execute_result"
    }
   ],
   "source": [
    "accuracy_score(y_train, np.round(y_pred))"
   ]
  },
  {
   "cell_type": "code",
   "execution_count": 166,
   "metadata": {},
   "outputs": [],
   "source": [
    "diff_losses = y_pred[y_train == 0.0]\n",
    "diff_wins =   y_pred[y_train == 1.0]"
   ]
  },
  {
   "cell_type": "code",
   "execution_count": 170,
   "metadata": {},
   "outputs": [
    {
     "data": {
      "text/plain": [
       "[<matplotlib.lines.Line2D at 0x7faeb7bdeb00>]"
      ]
     },
     "execution_count": 170,
     "metadata": {},
     "output_type": "execute_result"
    },
    {
     "data": {
      "image/png": "[encoded data removed]",
      "text/plain": [
       "<Figure size 640x480 with 1 Axes>"
      ]
     },
     "metadata": {},
     "output_type": "display_data"
    }
   ],
   "source": [
    "plt.hist(diff_wins, bins = 25, alpha = 0.5)\n",
    "plt.hist(diff_losses, bins = 25, alpha = 0.5)\n",
    "plt.plot([0.5, 0.5], [0, 500])"
   ]
  },
  {
   "cell_type": "code",
   "execution_count": null,
   "metadata": {},
   "outputs": [],
   "source": []
  },
  {
   "cell_type": "code",
   "execution_count": null,
   "metadata": {},
   "outputs": [],
   "source": []
  }
 ],
 "metadata": {
  "kernelspec": {
   "display_name": "Python 3.10.10 ('nbaenv')",
   "language": "python",
   "name": "python3"
  },
  "language_info": {
   "codemirror_mode": {
    "name": "ipython",
    "version": 3
   },
   "file_extension": ".py",
   "mimetype": "text/x-python",
   "name": "python",
   "nbconvert_exporter": "python",
   "pygments_lexer": "ipython3",
   "version": "3.10.10"
  },
  "orig_nbformat": 4,
  "vscode": {
   "interpreter": {
    "hash": "8158d229fe7301e640acb43d488c0efce3cd8ada31ff414dc1808c070c07cefa"
   }
  }
 },
 "nbformat": 4,
 "nbformat_minor": 2
}
