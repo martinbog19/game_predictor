{
 "cells": [
  {
   "cell_type": "markdown",
   "metadata": {},
   "source": [
    "# SCRAPING NOTEBOOK\n",
    "\n",
    "This notebook uses the scraper class created in bbref_scraper.py to scrape the training data from Baskteball-Reference"
   ]
  },
  {
   "cell_type": "code",
   "execution_count": 1,
   "metadata": {},
   "outputs": [],
   "source": [
    "# Import packages\n",
    "from bbref_scraper import SCRAPER\n",
    "import numpy as np\n",
    "import pandas as pd\n",
    "\n",
    "\n",
    "pd.set_option('display.max_columns', None)"
   ]
  },
  {
   "cell_type": "code",
   "execution_count": 2,
   "metadata": {},
   "outputs": [],
   "source": [
    "# Specify the seasons to be scraped -- 21st century -- and initiate scraper object\n",
    "years = np.arange(2020, 2023)\n",
    "scraper = SCRAPER(years)"
   ]
  },
  {
   "cell_type": "code",
   "execution_count": 3,
   "metadata": {},
   "outputs": [
    {
     "name": "stdout",
     "output_type": "stream",
     "text": [
      "Assembling 2021/2022 season final data ...\n"
     ]
    }
   ],
   "source": [
    "# Scrape and write into .csv the data from all seasons\n",
    "scraper.scrape(save = True)"
   ]
  },
  {
   "cell_type": "code",
   "execution_count": null,
   "metadata": {},
   "outputs": [],
   "source": []
  }
 ],
 "metadata": {
  "kernelspec": {
   "display_name": "Python 3.10.10 ('nbaenv')",
   "language": "python",
   "name": "python3"
  },
  "language_info": {
   "codemirror_mode": {
    "name": "ipython",
    "version": 3
   },
   "file_extension": ".py",
   "mimetype": "text/x-python",
   "name": "python",
   "nbconvert_exporter": "python",
   "pygments_lexer": "ipython3",
   "version": "3.10.10"
  },
  "orig_nbformat": 4,
  "vscode": {
   "interpreter": {
    "hash": "8158d229fe7301e640acb43d488c0efce3cd8ada31ff414dc1808c070c07cefa"
   }
  }
 },
 "nbformat": 4,
 "nbformat_minor": 2
}
