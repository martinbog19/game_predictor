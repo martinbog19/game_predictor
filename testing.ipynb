{
 "cells": [
  {
   "cell_type": "code",
   "execution_count": 1,
   "metadata": {},
   "outputs": [
    {
     "name": "stderr",
     "output_type": "stream",
     "text": [
      "2023-04-05 18:17:38.915596: I tensorflow/core/platform/cpu_feature_guard.cc:193] This TensorFlow binary is optimized with oneAPI Deep Neural Network Library (oneDNN) to use the following CPU instructions in performance-critical operations:  SSE4.1 SSE4.2\n",
      "To enable them in other operations, rebuild TensorFlow with the appropriate compiler flags.\n"
     ]
    }
   ],
   "source": [
    "import pandas as pd\n",
    "import numpy as np\n",
    "import matplotlib.pyplot as plt\n",
    "from bbref_scraper import SCRAPER\n",
    "\n",
    "from keras.models import Sequential\n",
    "from keras.layers import Dense\n",
    "from sklearn.metrics import accuracy_score"
   ]
  },
  {
   "cell_type": "markdown",
   "metadata": {},
   "source": [
    "Compare models by training prior to 2022 and testing on 2021-2022 season"
   ]
  },
  {
   "cell_type": "code",
   "execution_count": 68,
   "metadata": {},
   "outputs": [],
   "source": [
    "scraper = SCRAPER(np.arange(2000, 2023))\n",
    "data = scraper.load()\n",
    "data['home'] = len(data) * [1.0]\n",
    "train = data[data['year'] < 2022]\n",
    "train = train[(train['G_home'] >= 25) & (train['G_home'] >= 25) & (train['Rest_home'] < 20) & (train['Rest_away'] < 20)]\n",
    "test  = data[data['year'] == 2022]\n",
    "test = test[(test['G_home'] > 5) & (test['G_home'] > 5)]\n",
    "X_train, y_train = np.array(train[scraper.features]), np.array(train['W_home'])\n",
    "X_test, y_test   = np.array(test[scraper.features]),  np.array(test['W_home'])"
   ]
  },
  {
   "cell_type": "code",
   "execution_count": 49,
   "metadata": {},
   "outputs": [],
   "source": [
    "model = Sequential()\n",
    "model.add(Dense(32, activation = 'relu', input_shape = (X_train.shape[1],)))\n",
    "model.add(Dense(16, activation = 'relu'))\n",
    "model.add(Dense(8, activation = 'relu'))\n",
    "model.add(Dense(1,  activation = 'sigmoid'))"
   ]
  },
  {
   "cell_type": "code",
   "execution_count": 50,
   "metadata": {},
   "outputs": [],
   "source": [
    "# Compile the model\n",
    "model.compile(loss      = 'binary_crossentropy',\n",
    "              optimizer = 'adam',\n",
    "              metrics   = ['accuracy']\n",
    "              )"
   ]
  },
  {
   "cell_type": "code",
   "execution_count": 51,
   "metadata": {},
   "outputs": [
    {
     "name": "stdout",
     "output_type": "stream",
     "text": [
      "Epoch 1/25\n",
      "518/518 [==============================] - 1s 763us/step - loss: 0.6579 - accuracy: 0.6483 - val_loss: 0.6591 - val_accuracy: 0.6205\n",
      "Epoch 2/25\n",
      "518/518 [==============================] - 0s 602us/step - loss: 0.6071 - accuracy: 0.6688 - val_loss: 0.6404 - val_accuracy: 0.6363\n",
      "Epoch 3/25\n",
      "518/518 [==============================] - 0s 598us/step - loss: 0.6020 - accuracy: 0.6736 - val_loss: 0.6508 - val_accuracy: 0.6314\n",
      "Epoch 4/25\n",
      "518/518 [==============================] - 0s 591us/step - loss: 0.5987 - accuracy: 0.6764 - val_loss: 0.6409 - val_accuracy: 0.6374\n",
      "Epoch 5/25\n",
      "518/518 [==============================] - 0s 589us/step - loss: 0.5970 - accuracy: 0.6783 - val_loss: 0.6413 - val_accuracy: 0.6422\n",
      "Epoch 6/25\n",
      "518/518 [==============================] - 0s 639us/step - loss: 0.5952 - accuracy: 0.6803 - val_loss: 0.6460 - val_accuracy: 0.6281\n",
      "Epoch 7/25\n",
      "518/518 [==============================] - 0s 636us/step - loss: 0.5943 - accuracy: 0.6818 - val_loss: 0.6414 - val_accuracy: 0.6379\n",
      "Epoch 8/25\n",
      "518/518 [==============================] - 0s 604us/step - loss: 0.5933 - accuracy: 0.6809 - val_loss: 0.6464 - val_accuracy: 0.6412\n",
      "Epoch 9/25\n",
      "518/518 [==============================] - 0s 597us/step - loss: 0.5903 - accuracy: 0.6853 - val_loss: 0.6473 - val_accuracy: 0.6336\n",
      "Epoch 10/25\n",
      "518/518 [==============================] - 0s 596us/step - loss: 0.5897 - accuracy: 0.6826 - val_loss: 0.6507 - val_accuracy: 0.6379\n",
      "Epoch 11/25\n",
      "518/518 [==============================] - 0s 599us/step - loss: 0.5889 - accuracy: 0.6864 - val_loss: 0.6494 - val_accuracy: 0.6330\n",
      "Epoch 12/25\n",
      "518/518 [==============================] - 0s 616us/step - loss: 0.5883 - accuracy: 0.6840 - val_loss: 0.6487 - val_accuracy: 0.6422\n",
      "Epoch 13/25\n",
      "518/518 [==============================] - 0s 598us/step - loss: 0.5863 - accuracy: 0.6885 - val_loss: 0.6523 - val_accuracy: 0.6346\n",
      "Epoch 14/25\n",
      "518/518 [==============================] - 0s 589us/step - loss: 0.5851 - accuracy: 0.6873 - val_loss: 0.6508 - val_accuracy: 0.6330\n",
      "Epoch 15/25\n",
      "518/518 [==============================] - 0s 588us/step - loss: 0.5845 - accuracy: 0.6881 - val_loss: 0.6524 - val_accuracy: 0.6346\n",
      "Epoch 16/25\n",
      "518/518 [==============================] - 0s 600us/step - loss: 0.5830 - accuracy: 0.6896 - val_loss: 0.6585 - val_accuracy: 0.6488\n",
      "Epoch 17/25\n",
      "518/518 [==============================] - 0s 593us/step - loss: 0.5813 - accuracy: 0.6913 - val_loss: 0.6550 - val_accuracy: 0.6374\n",
      "Epoch 18/25\n",
      "518/518 [==============================] - 0s 593us/step - loss: 0.5808 - accuracy: 0.6938 - val_loss: 0.6505 - val_accuracy: 0.6450\n",
      "Epoch 19/25\n",
      "518/518 [==============================] - 0s 587us/step - loss: 0.5790 - accuracy: 0.6940 - val_loss: 0.6546 - val_accuracy: 0.6444\n",
      "Epoch 20/25\n",
      "518/518 [==============================] - 0s 592us/step - loss: 0.5783 - accuracy: 0.6917 - val_loss: 0.6557 - val_accuracy: 0.6422\n",
      "Epoch 21/25\n",
      "518/518 [==============================] - 0s 594us/step - loss: 0.5769 - accuracy: 0.6965 - val_loss: 0.6592 - val_accuracy: 0.6352\n",
      "Epoch 22/25\n",
      "518/518 [==============================] - 0s 585us/step - loss: 0.5757 - accuracy: 0.6970 - val_loss: 0.6590 - val_accuracy: 0.6346\n",
      "Epoch 23/25\n",
      "518/518 [==============================] - 0s 591us/step - loss: 0.5735 - accuracy: 0.6996 - val_loss: 0.6689 - val_accuracy: 0.6287\n",
      "Epoch 24/25\n",
      "518/518 [==============================] - 0s 616us/step - loss: 0.5734 - accuracy: 0.6970 - val_loss: 0.6553 - val_accuracy: 0.6308\n",
      "Epoch 25/25\n",
      "518/518 [==============================] - 0s 616us/step - loss: 0.5731 - accuracy: 0.6974 - val_loss: 0.6638 - val_accuracy: 0.6346\n"
     ]
    },
    {
     "data": {
      "text/plain": [
       "<keras.callbacks.History at 0x7fbcc0ec6830>"
      ]
     },
     "execution_count": 51,
     "metadata": {},
     "output_type": "execute_result"
    }
   ],
   "source": [
    "model.fit(X_train, y_train, validation_split = 0.1, epochs = 25, batch_size = 32)"
   ]
  },
  {
   "cell_type": "code",
   "execution_count": 52,
   "metadata": {},
   "outputs": [
    {
     "name": "stdout",
     "output_type": "stream",
     "text": [
      "37/37 [==============================] - 0s 398us/step\n"
     ]
    },
    {
     "data": {
      "text/plain": [
       "0.6247833622183708"
      ]
     },
     "execution_count": 52,
     "metadata": {},
     "output_type": "execute_result"
    }
   ],
   "source": [
    "y_pred = model.predict(X_test)\n",
    "accuracy_score(y_test, np.round(y_pred))"
   ]
  },
  {
   "cell_type": "code",
   "execution_count": null,
   "metadata": {},
   "outputs": [],
   "source": []
  },
  {
   "cell_type": "markdown",
   "metadata": {},
   "source": [
    "New model"
   ]
  },
  {
   "cell_type": "code",
   "execution_count": 73,
   "metadata": {},
   "outputs": [],
   "source": [
    "X_train, y_train = np.array(train[['W/L%_home', 'W/L%_away', 'NRtg_home', 'NRtg_away']]), np.array(train['W_home'])\n",
    "X_test, y_test   = np.array(test[['W/L%_home', 'W/L%_away', 'NRtg_home', 'NRtg_away']]),  np.array(test['W_home'])\n",
    "\n",
    "X_train, y_train = np.array(train[['home']]), np.array(train['W_home'])\n",
    "X_test, y_test   = np.array(test[['home']]),  np.array(test['W_home'])"
   ]
  },
  {
   "cell_type": "code",
   "execution_count": 74,
   "metadata": {},
   "outputs": [],
   "source": [
    "model = Sequential()\n",
    "model.add(Dense(32, activation = 'relu', input_shape = (X_train.shape[1],)))\n",
    "model.add(Dense(16, activation = 'relu'))\n",
    "model.add(Dense(8, activation = 'relu'))\n",
    "model.add(Dense(1,  activation = 'sigmoid'))\n",
    "\n",
    "# Compile the model\n",
    "model.compile(loss      = 'binary_crossentropy',\n",
    "              optimizer = 'adam',\n",
    "              metrics   = ['accuracy']\n",
    "              )"
   ]
  },
  {
   "cell_type": "code",
   "execution_count": 75,
   "metadata": {},
   "outputs": [
    {
     "name": "stdout",
     "output_type": "stream",
     "text": [
      "Epoch 1/25\n",
      "518/518 [==============================] - 1s 771us/step - loss: 0.6748 - accuracy: 0.5940 - val_loss: 0.6880 - val_accuracy: 0.5559\n",
      "Epoch 2/25\n",
      "518/518 [==============================] - 0s 592us/step - loss: 0.6736 - accuracy: 0.5993 - val_loss: 0.6918 - val_accuracy: 0.5559\n",
      "Epoch 3/25\n",
      "518/518 [==============================] - 0s 606us/step - loss: 0.6736 - accuracy: 0.5993 - val_loss: 0.6899 - val_accuracy: 0.5559\n",
      "Epoch 4/25\n",
      "518/518 [==============================] - 0s 600us/step - loss: 0.6735 - accuracy: 0.5993 - val_loss: 0.6910 - val_accuracy: 0.5559\n",
      "Epoch 5/25\n",
      "518/518 [==============================] - 0s 581us/step - loss: 0.6734 - accuracy: 0.5993 - val_loss: 0.6884 - val_accuracy: 0.5559\n",
      "Epoch 6/25\n",
      "518/518 [==============================] - 0s 578us/step - loss: 0.6735 - accuracy: 0.5993 - val_loss: 0.6943 - val_accuracy: 0.5559\n",
      "Epoch 7/25\n",
      "518/518 [==============================] - 0s 604us/step - loss: 0.6735 - accuracy: 0.5993 - val_loss: 0.6932 - val_accuracy: 0.5559\n",
      "Epoch 8/25\n",
      "518/518 [==============================] - 0s 894us/step - loss: 0.6736 - accuracy: 0.5993 - val_loss: 0.6904 - val_accuracy: 0.5559\n",
      "Epoch 9/25\n",
      "518/518 [==============================] - 0s 719us/step - loss: 0.6732 - accuracy: 0.5993 - val_loss: 0.6971 - val_accuracy: 0.5559\n",
      "Epoch 10/25\n",
      "518/518 [==============================] - 0s 717us/step - loss: 0.6736 - accuracy: 0.5993 - val_loss: 0.6918 - val_accuracy: 0.5559\n",
      "Epoch 11/25\n",
      "518/518 [==============================] - 0s 623us/step - loss: 0.6734 - accuracy: 0.5993 - val_loss: 0.6901 - val_accuracy: 0.5559\n",
      "Epoch 12/25\n",
      "518/518 [==============================] - 0s 585us/step - loss: 0.6735 - accuracy: 0.5993 - val_loss: 0.6892 - val_accuracy: 0.5559\n",
      "Epoch 13/25\n",
      "518/518 [==============================] - 0s 572us/step - loss: 0.6735 - accuracy: 0.5993 - val_loss: 0.6902 - val_accuracy: 0.5559\n",
      "Epoch 14/25\n",
      "518/518 [==============================] - 0s 586us/step - loss: 0.6734 - accuracy: 0.5993 - val_loss: 0.6887 - val_accuracy: 0.5559\n",
      "Epoch 15/25\n",
      "518/518 [==============================] - 0s 583us/step - loss: 0.6736 - accuracy: 0.5993 - val_loss: 0.6912 - val_accuracy: 0.5559\n",
      "Epoch 16/25\n",
      "518/518 [==============================] - 0s 578us/step - loss: 0.6735 - accuracy: 0.5993 - val_loss: 0.6914 - val_accuracy: 0.5559\n",
      "Epoch 17/25\n",
      "518/518 [==============================] - 0s 575us/step - loss: 0.6735 - accuracy: 0.5993 - val_loss: 0.6896 - val_accuracy: 0.5559\n",
      "Epoch 18/25\n",
      "518/518 [==============================] - 0s 579us/step - loss: 0.6736 - accuracy: 0.5993 - val_loss: 0.6900 - val_accuracy: 0.5559\n",
      "Epoch 19/25\n",
      "518/518 [==============================] - 0s 602us/step - loss: 0.6735 - accuracy: 0.5993 - val_loss: 0.6929 - val_accuracy: 0.5559\n",
      "Epoch 20/25\n",
      "518/518 [==============================] - 0s 583us/step - loss: 0.6734 - accuracy: 0.5993 - val_loss: 0.6930 - val_accuracy: 0.5559\n",
      "Epoch 21/25\n",
      "518/518 [==============================] - 0s 622us/step - loss: 0.6735 - accuracy: 0.5993 - val_loss: 0.6899 - val_accuracy: 0.5559\n",
      "Epoch 22/25\n",
      "518/518 [==============================] - 0s 595us/step - loss: 0.6734 - accuracy: 0.5993 - val_loss: 0.6911 - val_accuracy: 0.5559\n",
      "Epoch 23/25\n",
      "518/518 [==============================] - 0s 579us/step - loss: 0.6735 - accuracy: 0.5993 - val_loss: 0.6905 - val_accuracy: 0.5559\n",
      "Epoch 24/25\n",
      "518/518 [==============================] - 0s 583us/step - loss: 0.6734 - accuracy: 0.5993 - val_loss: 0.6901 - val_accuracy: 0.5559\n",
      "Epoch 25/25\n",
      "518/518 [==============================] - 0s 578us/step - loss: 0.6734 - accuracy: 0.5993 - val_loss: 0.6896 - val_accuracy: 0.5559\n"
     ]
    },
    {
     "data": {
      "text/plain": [
       "<keras.callbacks.History at 0x7fbc90feac20>"
      ]
     },
     "execution_count": 75,
     "metadata": {},
     "output_type": "execute_result"
    }
   ],
   "source": [
    "model.fit(X_train, y_train, validation_split = 0.1, epochs = 25, batch_size = 32)"
   ]
  },
  {
   "cell_type": "code",
   "execution_count": 62,
   "metadata": {},
   "outputs": [],
   "source": [
    "test['records_diff'] = test['W/L%_home'] - test['W/L%_away']"
   ]
  },
  {
   "cell_type": "code",
   "execution_count": 65,
   "metadata": {},
   "outputs": [],
   "source": [
    "test['pred'] = np.sign(test['records_diff'])\n",
    "test['pred'] = test['pred'].replace(-1, 0)"
   ]
  },
  {
   "cell_type": "code",
   "execution_count": 67,
   "metadata": {},
   "outputs": [
    {
     "data": {
      "text/plain": [
       "0.6195840554592721"
      ]
     },
     "execution_count": 67,
     "metadata": {},
     "output_type": "execute_result"
    }
   ],
   "source": [
    "accuracy_score(test['pred'], test['W_home'])"
   ]
  },
  {
   "cell_type": "code",
   "execution_count": null,
   "metadata": {},
   "outputs": [],
   "source": []
  }
 ],
 "metadata": {
  "kernelspec": {
   "display_name": "Python 3.10.10 ('nbaenv')",
   "language": "python",
   "name": "python3"
  },
  "language_info": {
   "codemirror_mode": {
    "name": "ipython",
    "version": 3
   },
   "file_extension": ".py",
   "mimetype": "text/x-python",
   "name": "python",
   "nbconvert_exporter": "python",
   "pygments_lexer": "ipython3",
   "version": "3.10.10"
  },
  "orig_nbformat": 4,
  "vscode": {
   "interpreter": {
    "hash": "8158d229fe7301e640acb43d488c0efce3cd8ada31ff414dc1808c070c07cefa"
   }
  }
 },
 "nbformat": 4,
 "nbformat_minor": 2
}
